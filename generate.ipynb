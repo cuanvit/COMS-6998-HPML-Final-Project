{
 "cells": [
  {
   "cell_type": "code",
   "execution_count": 18,
   "metadata": {},
   "outputs": [],
   "source": [
    "import torch\n",
    "from transformers import GPT2Tokenizer, GPT2LMHeadModel\n",
    "import importlib\n",
    "import own_gpt.model\n",
    "importlib.reload(own_gpt.model)\n",
    "\n",
    "\n",
    "from own_gpt.model import GPT\n",
    "from own_gpt.utils import set_seed\n",
    "from own_gpt.bpe import BPETokenizer\n",
    "set_seed(3407)"
   ]
  },
  {
   "cell_type": "code",
   "execution_count": 19,
   "metadata": {},
   "outputs": [],
   "source": [
    "use_own_gpt = True # use own_gpt or huggingface/transformers model?\n",
    "model_type = 'gpt2-xl'\n",
    "device = 'mps'"
   ]
  },
  {
   "cell_type": "code",
   "execution_count": 20,
   "metadata": {},
   "outputs": [
    {
     "name": "stdout",
     "output_type": "stream",
     "text": [
      "number of parameters: 1557.61M\n",
      "[INFO] Transferring weights from Hugging Face 'gpt2-xl' to own_gpt...\n",
      "[DONE] Loaded 581 weights | Skipped 0\n"
     ]
    }
   ],
   "source": [
    "if use_own_gpt:\n",
    "    model = GPT.from_pretrained(model_type)\n",
    "else:\n",
    "    model = GPT2LMHeadModel.from_pretrained(model_type)\n",
    "    model.config.pad_token_id = model.config.eos_token_id # suppress a warning\n",
    "\n",
    "# ship model to device and set to eval mode\n",
    "model.to(device)\n",
    "model.eval();"
   ]
  },
  {
   "cell_type": "code",
   "execution_count": 21,
   "metadata": {},
   "outputs": [],
   "source": [
    "def generate(prompt='', num_samples=10, steps=20, do_sample=True):\n",
    "        \n",
    "    # tokenize the input prompt into integer input sequence\n",
    "    if use_own_gpt:\n",
    "        tokenizer = BPETokenizer()\n",
    "        if prompt == '':\n",
    "            # to create unconditional samples...\n",
    "            # manually create a tensor with only the special <|endoftext|> token\n",
    "            # similar to what openai's code does here https://github.com/openai/gpt-2/blob/master/src/generate_unconditional_samples.py\n",
    "            x = torch.tensor([[tokenizer.encoder.encoder['<|endoftext|>']]], dtype=torch.long)\n",
    "        else:\n",
    "            x = tokenizer(prompt).to(device)\n",
    "    else:\n",
    "        tokenizer = GPT2Tokenizer.from_pretrained(model_type)\n",
    "        if prompt == '': \n",
    "            # to create unconditional samples...\n",
    "            # huggingface/transformers tokenizer special cases these strings\n",
    "            prompt = '<|endoftext|>'\n",
    "        encoded_input = tokenizer(prompt, return_tensors='pt').to(device)\n",
    "        x = encoded_input['input_ids']\n",
    "    \n",
    "    # we'll process all desired num_samples in a batch, so expand out the batch dim\n",
    "    x = x.expand(num_samples, -1)\n",
    "\n",
    "    # forward the model `steps` times to get samples, in a batch\n",
    "    y = model.generate(x, max_new_tokens=steps, do_sample=do_sample, top_k=40)\n",
    "    \n",
    "    for i in range(num_samples):\n",
    "        out = tokenizer.decode(y[i].cpu().squeeze())\n",
    "        print('-'*80)\n",
    "        print(out)"
   ]
  },
  {
   "cell_type": "code",
   "execution_count": 22,
   "metadata": {},
   "outputs": [
    {
     "name": "stdout",
     "output_type": "stream",
     "text": [
      "--------------------------------------------------------------------------------\n",
      "Lewis Hamilton retires after 'incident' while behind the wheel of Lotus car\n",
      "\n",
      "Lotus driver Romain Gros\n",
      "--------------------------------------------------------------------------------\n",
      "Lewis Hamilton retires after his first attempt at the Monaco Grand Prix\n",
      "\n",
      "\"The car was too big for me and my\n",
      "--------------------------------------------------------------------------------\n",
      "Lewis Hamilton retires after a disappointing campaign\n",
      "\n",
      "Hamilton says Mercedes did make progress, but was unable to match Red Bull\n",
      "\n",
      "--------------------------------------------------------------------------------\n",
      "Lewis Hamilton retires after the Austrian Grand Prix on Saturday 25 November 2014. Photograph: Yui Mok/PA\n",
      "\n",
      "\n",
      "--------------------------------------------------------------------------------\n",
      "Lewis Hamilton retires after winning in Germany\n",
      "\n",
      "Lewis Hamilton retires after winning in Germany Sebastian Vettel finished second to Hamilton\n",
      "--------------------------------------------------------------------------------\n",
      "Lewis Hamilton retires after third-place finish at German Grand Prix\n",
      "\n",
      "Formula 1 2017-18 rules: How teams\n",
      "--------------------------------------------------------------------------------\n",
      "Lewis Hamilton retires after fourth retirement of the race\n",
      "\n",
      "Lewis Hamilton was at an all-time low as his race ended\n",
      "--------------------------------------------------------------------------------\n",
      "Lewis Hamilton retires after fifth retirement of 2016\n",
      "\n",
      "He said he was \"still in shock\" when he heard Hamilton's\n",
      "--------------------------------------------------------------------------------\n",
      "Lewis Hamilton retires after the 2012 season\n",
      "\n",
      "In order to avoid controversy after its first year of existence, the FIA decided\n",
      "--------------------------------------------------------------------------------\n",
      "Lewis Hamilton retires after his Mercedes crash\n",
      "\n",
      "It's a day of mixed emotions for Red Bull\n",
      "\n",
      "Vettel's\n"
     ]
    }
   ],
   "source": [
    "generate(prompt='Lewis Hamilton retires after', num_samples=10, steps=20)"
   ]
  },
  {
   "cell_type": "code",
   "execution_count": null,
   "metadata": {},
   "outputs": [],
   "source": []
  }
 ],
 "metadata": {
  "kernelspec": {
   "display_name": ".venv",
   "language": "python",
   "name": "python3"
  },
  "language_info": {
   "codemirror_mode": {
    "name": "ipython",
    "version": 3
   },
   "file_extension": ".py",
   "mimetype": "text/x-python",
   "name": "python",
   "nbconvert_exporter": "python",
   "pygments_lexer": "ipython3",
   "version": "3.10.12"
  }
 },
 "nbformat": 4,
 "nbformat_minor": 2
}
